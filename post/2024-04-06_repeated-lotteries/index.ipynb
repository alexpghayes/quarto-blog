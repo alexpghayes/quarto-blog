{
 "cells": [
  {
   "cell_type": "raw",
   "metadata": {
    "tags": []
   },
   "source": [
    "---\n",
    "title: \"fairness in repeated lotteries\"\n",
    "subtitle: |\n",
    "    how to run repeated lotteries in a fair way\n",
    "date: \"2024-04-06\"\n",
    "jupyter: lottery\n",
    "categories: [python]\n",
    "draft: TRUE\n",
    "execute: \n",
    "    enabled: false\n",
    "---"
   ]
  },
  {
   "cell_type": "code",
   "execution_count": 1,
   "metadata": {},
   "outputs": [],
   "source": [
    "import jax.numpy as jnp\n",
    "import matplotlib.pyplot as plt\n",
    "import numpy as onp\n",
    "import seaborn as sns\n",
    "from copy import deepcopy\n",
    "from jaxopt import ProjectedGradient"
   ]
  },
  {
   "cell_type": "markdown",
   "metadata": {},
   "source": [
    "The first text cell"
   ]
  },
  {
   "cell_type": "markdown",
   "metadata": {},
   "source": [
    "# Setting up and testing some infrastructure (feel free to skip to next heading)\n"
   ]
  },
  {
   "cell_type": "code",
   "execution_count": 2,
   "metadata": {},
   "outputs": [],
   "source": [
    "def randomized_pipage_rounding(x):\n",
    "    \"\"\"\n",
    "    Fast pipage rounding implementation for uniform matroid\n",
    "\n",
    "    From https://github.com/bwilder0/clusternet\n",
    "    See Randomized Pipage Rounding algorithm in http://arxiv.org/abs/1711.01566\n",
    "    \"\"\"\n",
    "    i = 0\n",
    "    j = 1\n",
    "    x = onp.array(x)  # does this make a deepcopy?\n",
    "    x = deepcopy(x)  # x.clone()\n",
    "    for t in range(len(x) - 1):\n",
    "        if x[i] == 0 and x[j] == 0:\n",
    "            i = max((i, j)) + 1\n",
    "        elif x[i] + x[j] < 1:\n",
    "            if onp.random.rand() < x[i] / (x[i] + x[j]):\n",
    "                x[i] = x[i] + x[j]\n",
    "                x[j] = 0\n",
    "                j = max((i, j)) + 1\n",
    "            else:\n",
    "                x[j] = x[i] + x[j]\n",
    "                x[i] = 0\n",
    "                i = max((i, j)) + 1\n",
    "        else:\n",
    "            if onp.random.rand() < (1 - x[j]) / (2 - x[i] - x[j]):\n",
    "                x[j] = x[i] + x[j] - 1\n",
    "                x[i] = 1\n",
    "                i = max((i, j)) + 1\n",
    "\n",
    "            else:\n",
    "                x[i] = x[i] + x[j] - 1\n",
    "                x[j] = 1\n",
    "                j = max((i, j)) + 1\n",
    "    return x"
   ]
  },
  {
   "cell_type": "code",
   "execution_count": 3,
   "metadata": {},
   "outputs": [
    {
     "name": "stderr",
     "output_type": "stream",
     "text": [
      "An NVIDIA GPU may be present on this machine, but a CUDA-enabled jaxlib is not installed. Falling back to cpu.\n"
     ]
    },
    {
     "data": {
      "text/plain": [
       "Array(3., dtype=float32)"
      ]
     },
     "execution_count": 3,
     "metadata": {},
     "output_type": "execute_result"
    }
   ],
   "source": [
    "x = jnp.array([0.1, 0.3, 0.4, 0.8, 0.4])\n",
    "sum(x) + 1"
   ]
  },
  {
   "cell_type": "code",
   "execution_count": 4,
   "metadata": {},
   "outputs": [
    {
     "data": {
      "text/plain": [
       "Array([-0.02      , -0.01700002,  0.01199999, -0.00200003,  0.02699998],      dtype=float32)"
      ]
     },
     "execution_count": 4,
     "metadata": {},
     "output_type": "execute_result"
    }
   ],
   "source": [
    "# quick confirmation the rounding() produces the correct marginals\n",
    "\n",
    "reps = 1000\n",
    "total = jnp.zeros_like(x)\n",
    "for i in range(reps):\n",
    "    total += randomized_pipage_rounding(x)\n",
    "total / reps - x"
   ]
  },
  {
   "cell_type": "code",
   "execution_count": 5,
   "metadata": {},
   "outputs": [],
   "source": [
    "def prospective_loss(prob_win, winners, num_winners_per_lottery):\n",
    "    \"\"\"\n",
    "    Bailey: this implements a slightly different loss than the\n",
    "    one you wrote up in your initial note. In your initial note,\n",
    "    the expected loss at time t is unconditional on the actual\n",
    "    outcomes of the first (t-1) rounds, but here I use that\n",
    "    information. I'll write this loss at nice at some point.\n",
    "    \"\"\"\n",
    "\n",
    "    # if jnp.any(prob_win < 0) or jnp.any(prob_win > 1):\n",
    "    #     raise ValueError(\"Entries of `prob_win` must be contained in [0, 1]\")\n",
    "\n",
    "    # if num_winners_per_lottery != prob_win.sum():\n",
    "    #     raise ValueError(f\"`prob_win` ({prob_win.sum()}) must sum to the `num_winners_per_lottery` ({num_winners_per_lottery})\")\n",
    "\n",
    "    total_attendances = winners.sum(axis=1)\n",
    "    num_entrants = winners.shape[0]\n",
    "    lotteries_so_far = winners.shape[1]\n",
    "\n",
    "    # fair_allocation_so_far = num_winners_per_lottery * lotteries_so_far / num_entrants\n",
    "    # print(f\"num slots per lottery {num_winners_per_lottery}, attendees per lottery: {num_entrants}, lotteries so far: {lotteries_so_far}, fair allocation so far = {fair_allocation_so_far}\")\n",
    "\n",
    "    # loss_so_far = jnp.max(jnp.abs(total_attendances - fair_allocation_so_far))\n",
    "    expected_attendances = total_attendances + prob_win\n",
    "    fair_allocation = num_winners_per_lottery * (lotteries_so_far + 1) / num_entrants\n",
    "\n",
    "    # we get hit by jensen's inequality when computing this expected loss given prob_win\n",
    "    # but i'm going to ignore that for now\n",
    "    individual_deviations = expected_attendances - fair_allocation\n",
    "    expected_loss = jnp.max(jnp.abs(individual_deviations))\n",
    "    return expected_loss"
   ]
  },
  {
   "cell_type": "code",
   "execution_count": 6,
   "metadata": {},
   "outputs": [
    {
     "data": {
      "text/plain": [
       "Array(49.604286, dtype=float32)"
      ]
     },
     "execution_count": 6,
     "metadata": {},
     "output_type": "execute_result"
    }
   ],
   "source": [
    "pi_test = jnp.array([0.6, 0.4, 0.5, 0.1, 0.01, 0.89, 0.5])\n",
    "num_winners_per_lottery = pi_test.sum()\n",
    "\n",
    "winners = [randomized_pipage_rounding(jnp.array(pi_test)) for _ in range(100)]\n",
    "winners = jnp.column_stack(winners)\n",
    "\n",
    "prospective_loss(pi_test, winners, num_winners_per_lottery=3)"
   ]
  },
  {
   "cell_type": "code",
   "execution_count": 7,
   "metadata": {},
   "outputs": [],
   "source": [
    "def projection_simplex_clip(r, simplex_sum):\n",
    "    \"\"\"\n",
    "    Projects a real-valued vector onto the simplex, with the constraint the elements\n",
    "    of the simplex sum to ``simplex_sum,`` and all entries of the vector must\n",
    "    be between 0 and 1.\n",
    "\n",
    "    Modified from http://www.ryanhmckenna.com/2019/10/projecting-onto-probability-simplex.html\n",
    "\n",
    "    jaxopt.projection.projection_simplex(scale=num_winners_per_lottery) doesn't quite work for us\n",
    "    because it allows potential attendees to be assigned marginal probabilities of attendance\n",
    "    larger than one\n",
    "\n",
    "    \"\"\"\n",
    "    lambdas = jnp.append(-r, 1 - r)\n",
    "    idx = jnp.argsort(lambdas)\n",
    "    lambdas = lambdas[idx]\n",
    "    active = jnp.cumsum((idx < r.size) * 2 - 1)[:-1]\n",
    "    diffs = jnp.diff(lambdas, n=1)\n",
    "    totals = jnp.cumsum(active * diffs)\n",
    "    # i = jnp.searchsorted(totals, 1.0)\n",
    "    # lam = (1 - totals[i]) / active[i] + lambdas[i+1]\n",
    "    i = jnp.searchsorted(totals, simplex_sum)\n",
    "    lam = (simplex_sum - totals[i]) / active[i] + lambdas[i + 1]\n",
    "    # NOTE: i added some additional renormalization here\n",
    "    p = jnp.clip(r + lam, 0, 1)\n",
    "    return p / p.sum() * simplex_sum"
   ]
  },
  {
   "cell_type": "code",
   "execution_count": 8,
   "metadata": {},
   "outputs": [
    {
     "data": {
      "text/plain": [
       "Array([0.74833333, 0.5483333 , 0.6483333 , 0.2483334 , 0.15833342,\n",
       "       0.        , 0.6483333 ], dtype=float32)"
      ]
     },
     "execution_count": 8,
     "metadata": {},
     "output_type": "execute_result"
    }
   ],
   "source": [
    "num_winners_per_lottery = 3\n",
    "\n",
    "pg = ProjectedGradient(fun=prospective_loss, projection=projection_simplex_clip)\n",
    "pg_sol = pg.run(\n",
    "    init_params=pi_test,\n",
    "    hyperparams_proj=num_winners_per_lottery,\n",
    "    winners=winners,\n",
    "    num_winners_per_lottery=num_winners_per_lottery,\n",
    ")\n",
    "pg_sol.params"
   ]
  },
  {
   "cell_type": "code",
   "execution_count": 9,
   "metadata": {},
   "outputs": [],
   "source": [
    "def simplex_clip_prospective_loss(prob_win, winners, num_winners_per_lottery):\n",
    "\n",
    "    # if jnp.any(prob_win < 0) or jnp.any(prob_win > 1):\n",
    "    #     raise ValueError(\"Entries of `prob_win` must be contained in [0, 1]\")\n",
    "\n",
    "    # if num_winners_per_lottery != prob_win.sum():\n",
    "    #     raise ValueError(f\"`prob_win` ({prob_win.sum()}) must sum to the `num_winners_per_lottery` ({num_winners_per_lottery})\")\n",
    "\n",
    "    total_attendances = winners.sum(axis=1)\n",
    "    num_entrants = winners.shape[0]\n",
    "    lotteries_so_far = winners.shape[1]\n",
    "\n",
    "    # fair_allocation_so_far = num_winners_per_lottery * lotteries_so_far / num_entrants\n",
    "    # print(f\"num slots per lottery {num_winners_per_lottery}, attendees per lottery: {num_entrants}, lotteries so far: {lotteries_so_far}, fair allocation so far = {fair_allocation_so_far}\")\n",
    "\n",
    "    # loss_so_far = jnp.max(jnp.abs(total_attendances - fair_allocation_so_far))\n",
    "    expected_attendances = total_attendances + prob_win\n",
    "    fair_allocation = num_winners_per_lottery * (lotteries_so_far + 1) / num_entrants\n",
    "\n",
    "    # we get hit by jensen's inequality when computing this expected loss given prob_win\n",
    "    # but i'm going to ignore that for now\n",
    "    individual_deviations = expected_attendances - fair_allocation\n",
    "    return projection_simplex_clip(individual_deviations, num_winners_per_lottery)"
   ]
  },
  {
   "cell_type": "code",
   "execution_count": 10,
   "metadata": {},
   "outputs": [
    {
     "name": "stdout",
     "output_type": "stream",
     "text": [
      "3.0\n"
     ]
    },
    {
     "data": {
      "text/plain": [
       "array([1., 0., 1., 1., 0., 0., 0.], dtype=float32)"
      ]
     },
     "execution_count": 10,
     "metadata": {},
     "output_type": "execute_result"
    }
   ],
   "source": [
    "print(pg_sol.params.sum())\n",
    "onp.round(randomized_pipage_rounding(pg_sol.params))"
   ]
  },
  {
   "cell_type": "markdown",
   "metadata": {},
   "source": [
    "# Skip to here to see simulation results\n"
   ]
  },
  {
   "cell_type": "code",
   "execution_count": 11,
   "metadata": {},
   "outputs": [],
   "source": [
    "# simulation to investigate properties of procedure\n",
    "\n",
    "num_lotteries = 25\n",
    "num_winners_per_lottery = 7\n",
    "num_entrants = 30\n",
    "\n",
    "win_expectation = onp.zeros((num_entrants, num_lotteries))\n",
    "winners = onp.zeros_like(win_expectation)\n",
    "\n",
    "win_expectation_equal = onp.ones(num_entrants) * num_winners_per_lottery / num_entrants\n",
    "\n",
    "win_expectation[:, 0] = win_expectation_equal\n",
    "\n",
    "pg = ProjectedGradient(fun=prospective_loss, projection=projection_simplex_clip)\n",
    "\n",
    "for lottery in range(num_lotteries):\n",
    "\n",
    "    # run the lottery\n",
    "    winners[:, lottery] = onp.round(\n",
    "        randomized_pipage_rounding(win_expectation[:, lottery])\n",
    "    )\n",
    "\n",
    "    # determine fair probabilities for next lottery\n",
    "    next_win_expectations = pg.run(\n",
    "        init_params=win_expectation_equal,\n",
    "        hyperparams_proj=num_winners_per_lottery,\n",
    "        winners=winners,\n",
    "        num_winners_per_lottery=num_winners_per_lottery,\n",
    "    )\n",
    "\n",
    "    is_last_lottery = lottery == num_lotteries - 1\n",
    "    if not is_last_lottery:\n",
    "        win_expectation[:, lottery + 1] = onp.array(next_win_expectations.params)"
   ]
  },
  {
   "cell_type": "code",
   "execution_count": 12,
   "metadata": {},
   "outputs": [
    {
     "data": {
      "text/plain": [
       "array([7., 7., 7., 7., 7., 7., 7., 7., 7., 7., 7., 7., 7., 7., 7., 7., 7.,\n",
       "       7., 7., 7., 7., 7., 7., 7., 7.])"
      ]
     },
     "execution_count": 12,
     "metadata": {},
     "output_type": "execute_result"
    }
   ],
   "source": [
    "# attendances per lottery, should be num_winners_per_lottery every time\n",
    "winners.sum(axis=0)"
   ]
  },
  {
   "cell_type": "code",
   "execution_count": 13,
   "metadata": {},
   "outputs": [
    {
     "data": {
      "text/plain": [
       "array([6., 6., 5., 6., 6., 6., 6., 6., 5., 6., 6., 6., 6., 6., 6., 5., 6.,\n",
       "       6., 6., 6., 6., 6., 6., 6., 5., 6., 6., 5., 6., 6.])"
      ]
     },
     "execution_count": 13,
     "metadata": {},
     "output_type": "execute_result"
    }
   ],
   "source": [
    "# attendance per attendee. should be fairly even across attendees\n",
    "winners.sum(axis=1)"
   ]
  },
  {
   "cell_type": "code",
   "execution_count": 14,
   "metadata": {},
   "outputs": [
    {
     "data": {
      "image/png": "[encoded data removed]",
      "text/plain": [
       "<Figure size 640x480 with 2 Axes>"
      ]
     },
     "metadata": {},
     "output_type": "display_data"
    }
   ],
   "source": [
    "ax = sns.heatmap(win_expectation, linewidth=0.5)\n",
    "plt.show()"
   ]
  },
  {
   "cell_type": "code",
   "execution_count": 15,
   "metadata": {},
   "outputs": [
    {
     "data": {
      "text/plain": [
       "array([7.        , 7.00000039, 7.        , 7.00000012, 7.00000018,\n",
       "       7.00000003, 7.00000012, 6.99999988, 6.99999988, 6.99999985,\n",
       "       6.99999988, 6.99999958, 6.99999958, 7.00000073, 6.99999988,\n",
       "       6.99999958, 7.        , 6.99999915, 7.00000048, 7.00000009,\n",
       "       6.99999988, 6.99999999, 7.00000036, 6.99999991, 7.00000048])"
      ]
     },
     "execution_count": 15,
     "metadata": {},
     "output_type": "execute_result"
    }
   ],
   "source": [
    "# total marginal probability mass assigned each lottery\n",
    "win_expectation.sum(axis=0)"
   ]
  },
  {
   "cell_type": "code",
   "execution_count": 16,
   "metadata": {},
   "outputs": [
    {
     "data": {
      "text/plain": [
       "array([3.17807072, 4.37998562, 6.60467123, 5.79576374, 7.81921352,\n",
       "       4.11164453, 3.18214997, 8.35481648, 6.7643381 , 6.17859673,\n",
       "       5.83525575, 5.65448983, 5.1254982 , 8.11699151, 5.78434924,\n",
       "       4.27436193, 6.12427083, 6.28928044, 7.3724189 , 3.70124306,\n",
       "       5.77178451, 4.930699  , 6.17585055, 8.14798189, 4.75908559,\n",
       "       5.47461741, 6.2771749 , 5.15752038, 7.23823434, 6.41964113])"
      ]
     },
     "execution_count": 16,
     "metadata": {},
     "output_type": "execute_result"
    }
   ],
   "source": [
    "# total marginal probability mass assigned to each attendee\n",
    "win_expectation.sum(axis=1)"
   ]
  },
  {
   "cell_type": "code",
   "execution_count": 17,
   "metadata": {},
   "outputs": [
    {
     "data": {
      "image/png": "[encoded data removed]",
      "text/plain": [
       "<Figure size 640x480 with 2 Axes>"
      ]
     },
     "metadata": {},
     "output_type": "display_data"
    }
   ],
   "source": [
    "ax = sns.heatmap(winners, linewidth=0.5)\n",
    "plt.show()"
   ]
  }
 ],
 "metadata": {
  "kernelspec": {
   "display_name": "lottery",
   "language": "python",
   "name": "python3"
  },
  "language_info": {
   "codemirror_mode": {
    "name": "ipython",
    "version": 3
   },
   "file_extension": ".py",
   "mimetype": "text/x-python",
   "name": "python",
   "nbconvert_exporter": "python",
   "pygments_lexer": "ipython3",
   "version": "3.12.2"
  }
 },
 "nbformat": 4,
 "nbformat_minor": 2
}
